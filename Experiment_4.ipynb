{
  "nbformat": 4,
  "nbformat_minor": 0,
  "metadata": {
    "colab": {
      "name": "Experiment 4.ipynb",
      "provenance": [],
      "collapsed_sections": [],
      "authorship_tag": "ABX9TyMl5bKY+9D1+TZq0w3tUXYG",
      "include_colab_link": true
    },
    "kernelspec": {
      "name": "python3",
      "display_name": "Python 3"
    },
    "language_info": {
      "name": "python"
    }
  },
  "cells": [
    {
      "cell_type": "markdown",
      "metadata": {
        "id": "view-in-github",
        "colab_type": "text"
      },
      "source": [
        "<a href=\"https://colab.research.google.com/github/Neelakash-gituser/BODMAS-Cloudcraftz-Competition/blob/master/Experiment_4.ipynb\" target=\"_parent\"><img src=\"https://colab.research.google.com/assets/colab-badge.svg\" alt=\"Open In Colab\"/></a>"
      ]
    },
    {
      "cell_type": "markdown",
      "source": [
        "### Summary of Experiment \n",
        "**This experiment involves trade, where we are buying or selling a single stock (+1 or -1) , or doing nothing (0) each trading day .** \n",
        "\n",
        "`observation_space = ['close', 'action_taken']`, \n",
        "where `action_taken` = [1, 0, -1]\n",
        "\n",
        "`action_space = [1, 0, -1]`\n",
        "\n",
        "`reward` = $ action * (close_{t} - close_{t-1}) $\n",
        "\n",
        "`Model Used` : `A2C` from `stable_baselines3`\n",
        "\n",
        "**Note**: There is no concept of cash, no accumulation of stocks ."
      ],
      "metadata": {
        "id": "5X27w4eZJd36"
      }
    },
    {
      "cell_type": "code",
      "source": [
        "!pip install stable-baselines3"
      ],
      "metadata": {
        "id": "7ec0yargBBDH",
        "colab": {
          "base_uri": "https://localhost:8080/"
        },
        "outputId": "77a2f2f3-b665-46c2-90ac-8d2d5727c38f"
      },
      "execution_count": 1,
      "outputs": [
        {
          "output_type": "stream",
          "name": "stdout",
          "text": [
            "Collecting stable-baselines3\n",
            "  Downloading stable_baselines3-1.5.0-py3-none-any.whl (177 kB)\n",
            "\u001b[K     |████████████████████████████████| 177 kB 4.8 MB/s \n",
            "\u001b[?25hRequirement already satisfied: pandas in /usr/local/lib/python3.7/dist-packages (from stable-baselines3) (1.3.5)\n",
            "Requirement already satisfied: numpy in /usr/local/lib/python3.7/dist-packages (from stable-baselines3) (1.21.5)\n",
            "Requirement already satisfied: matplotlib in /usr/local/lib/python3.7/dist-packages (from stable-baselines3) (3.2.2)\n",
            "Requirement already satisfied: cloudpickle in /usr/local/lib/python3.7/dist-packages (from stable-baselines3) (1.3.0)\n",
            "Requirement already satisfied: torch>=1.8.1 in /usr/local/lib/python3.7/dist-packages (from stable-baselines3) (1.10.0+cu111)\n",
            "Collecting gym==0.21\n",
            "  Downloading gym-0.21.0.tar.gz (1.5 MB)\n",
            "\u001b[K     |████████████████████████████████| 1.5 MB 6.3 MB/s \n",
            "\u001b[?25hRequirement already satisfied: importlib_metadata>=4.8.1 in /usr/local/lib/python3.7/dist-packages (from gym==0.21->stable-baselines3) (4.11.3)\n",
            "Requirement already satisfied: zipp>=0.5 in /usr/local/lib/python3.7/dist-packages (from importlib_metadata>=4.8.1->gym==0.21->stable-baselines3) (3.7.0)\n",
            "Requirement already satisfied: typing-extensions>=3.6.4 in /usr/local/lib/python3.7/dist-packages (from importlib_metadata>=4.8.1->gym==0.21->stable-baselines3) (3.10.0.2)\n",
            "Requirement already satisfied: cycler>=0.10 in /usr/local/lib/python3.7/dist-packages (from matplotlib->stable-baselines3) (0.11.0)\n",
            "Requirement already satisfied: pyparsing!=2.0.4,!=2.1.2,!=2.1.6,>=2.0.1 in /usr/local/lib/python3.7/dist-packages (from matplotlib->stable-baselines3) (3.0.7)\n",
            "Requirement already satisfied: python-dateutil>=2.1 in /usr/local/lib/python3.7/dist-packages (from matplotlib->stable-baselines3) (2.8.2)\n",
            "Requirement already satisfied: kiwisolver>=1.0.1 in /usr/local/lib/python3.7/dist-packages (from matplotlib->stable-baselines3) (1.4.0)\n",
            "Requirement already satisfied: six>=1.5 in /usr/local/lib/python3.7/dist-packages (from python-dateutil>=2.1->matplotlib->stable-baselines3) (1.15.0)\n",
            "Requirement already satisfied: pytz>=2017.3 in /usr/local/lib/python3.7/dist-packages (from pandas->stable-baselines3) (2018.9)\n",
            "Building wheels for collected packages: gym\n",
            "  Building wheel for gym (setup.py) ... \u001b[?25l\u001b[?25hdone\n",
            "  Created wheel for gym: filename=gym-0.21.0-py3-none-any.whl size=1616825 sha256=a411e2fa8d5de6bc600f445a58a1d4eae7d92081bfa4b4a0e252c7ac5d5c4e92\n",
            "  Stored in directory: /root/.cache/pip/wheels/76/ee/9c/36bfe3e079df99acf5ae57f4e3464ff2771b34447d6d2f2148\n",
            "Successfully built gym\n",
            "Installing collected packages: gym, stable-baselines3\n",
            "  Attempting uninstall: gym\n",
            "    Found existing installation: gym 0.17.3\n",
            "    Uninstalling gym-0.17.3:\n",
            "      Successfully uninstalled gym-0.17.3\n",
            "Successfully installed gym-0.21.0 stable-baselines3-1.5.0\n"
          ]
        }
      ]
    },
    {
      "cell_type": "markdown",
      "source": [
        "#### Import Statements"
      ],
      "metadata": {
        "id": "2Dqte6uSgnrP"
      }
    },
    {
      "cell_type": "code",
      "source": [
        "from google.colab import drive\n",
        "drive.mount('/content/gdrive')"
      ],
      "metadata": {
        "id": "CTQupCo8Bes9",
        "colab": {
          "base_uri": "https://localhost:8080/"
        },
        "outputId": "6271917f-4bb7-4607-ca18-b6a6162d6bca"
      },
      "execution_count": 2,
      "outputs": [
        {
          "output_type": "stream",
          "name": "stdout",
          "text": [
            "Mounted at /content/gdrive\n"
          ]
        }
      ]
    },
    {
      "cell_type": "code",
      "execution_count": 3,
      "metadata": {
        "id": "XkkJ8AyfzN2y"
      },
      "outputs": [],
      "source": [
        "import gym \n",
        "import random\n",
        "import pandas as pd\n",
        "import numpy as np\n",
        "import matplotlib.lines as mlines\n",
        "import plotly.graph_objects as go\n",
        "import matplotlib.pyplot as plt\n",
        "\n",
        "from scipy.stats import kurtosis\n",
        "from pandas._libs import index\n",
        "from sklearn.metrics import accuracy_score, confusion_matrix, plot_confusion_matrix\n",
        "\n",
        "from stable_baselines3 import A2C\n",
        "\n",
        "plt.rcParams['axes.facecolor'] = 'lightblue'"
      ]
    },
    {
      "cell_type": "markdown",
      "source": [
        "#### External Functions (API's)"
      ],
      "metadata": {
        "id": "nwEBeNwtgse2"
      }
    },
    {
      "cell_type": "code",
      "source": [
        "def dataframe(ticker, start, end, tech_indi=['close']):\n",
        "    df = pd.read_csv(f'/content/gdrive/MyDrive/NewSignals/{ticker}.csv')\n",
        "    # df.drop(df.columns[0], axis=1, inplace=True)\n",
        "    df.drop(\"close\", axis=1, inplace=True)\n",
        "    df.rename(columns={\"price\":\"close\"}, inplace=True)\n",
        "    df.set_index('date', inplace=True)\n",
        "    df = df.loc[start:end, tech_indi]\n",
        "    df.reset_index(drop=True, inplace=True)\n",
        "\n",
        "    return df, start, end"
      ],
      "metadata": {
        "id": "XyJkCGk7Q_iT"
      },
      "execution_count": 35,
      "outputs": []
    },
    {
      "cell_type": "code",
      "source": [
        "def summary(envF, env):\n",
        "\n",
        "    train = pd.DataFrame(envF.return_df)\n",
        "    test = pd.DataFrame(env.return_df)\n",
        "\n",
        "    # Time Periods\n",
        "    train_period = (pd.to_datetime(envF.end) - pd.to_datetime(envF.start))//np.timedelta64(1, 'M')\n",
        "    test_period = (pd.to_datetime(env.end) - pd.to_datetime(env.start))//np.timedelta64(1, 'M')\n",
        "\n",
        "    # Daily Returns \n",
        "    train['returns'] = (train['reward_t']/abs(train['action_t'])) / train['price_t']\n",
        "    test['returns'] = (test['reward_t']/abs(test['action_t'])) / test['price_t']\n",
        "\n",
        "    train.fillna(0, inplace=True)\n",
        "    test.fillna(0, inplace=True) \n",
        "\n",
        "    # Compounded Returns \n",
        "    train['ret_cp'] = 0\n",
        "    test['ret_cp'] = 0\n",
        "\n",
        "    train.loc[0, 'ret_cp'] = train.loc[0, 'returns']\n",
        "    train_ret = train['returns'].to_list()\n",
        "    for t in range(1, len(train['returns'])):\n",
        "        train.loc[t, 'ret_cp'] = (1 + train.loc[t-1, 'ret_cp']) * (1 + train_ret[t]) - 1\n",
        "\n",
        "    test.loc[0, 'ret_cp'] = test.loc[0, 'returns']\n",
        "    test_ret = test['returns'].to_list()\n",
        "    for t in range(1, len(test['returns'])):\n",
        "        test.loc[t, 'ret_cp'] = (1 + test.loc[t-1, 'ret_cp']) * (1 + test_ret[t]) - 1\n",
        "\n",
        "\n",
        "    # Cumulative Rewards\n",
        "    train['cum_reward'] = train['reward_t'].cumsum()\n",
        "    test['cum_reward'] = test['reward_t'].cumsum()\n",
        "\n",
        "    # The total df\n",
        "    total_df = pd.concat([train, test], axis=0)\n",
        "    total_df.reset_index(drop=True, inplace=True)\n",
        "\n",
        "    train_index = len(train['returns'].values)\n",
        "\n",
        "    # Total Reward\n",
        "    total_reward_train = train['reward_t'].sum()\n",
        "    total_reward_test = test['reward_t'].sum()\n",
        "\n",
        "    # Return Per Period\n",
        "    train_period_return = (train['ret_cp'].loc[len(train['ret_cp'])-1]/train_period) * 100\n",
        "    test_period_return = (test['ret_cp'].loc[len(test['ret_cp'])-1]/test_period) * 100\n",
        "\n",
        "    # Annualized Return \n",
        "    train_annual_return = train_period_return * 12\n",
        "    test_annual_return = test_period_return * 12\n",
        "\n",
        "    # Volatility \n",
        "    train_vol = np.std(train['returns']) * np.sqrt(252)\n",
        "    test_vol = np.std(test['returns']) * np.sqrt(252)\n",
        "\n",
        "    # Sharpe Ratio\n",
        "    train_sharpe = (train['returns'].mean()/np.std(train['returns'])) * np.sqrt(252)\n",
        "    test_sharpe = (test['returns'].mean()/np.std(test['returns'])) * np.sqrt(252)\n",
        "\n",
        "    # Kurtosis\n",
        "    train_kurtosis = (kurtosis(train['returns'], fisher=False))\n",
        "    test_kurtosis = (kurtosis(test['returns'], fisher=False))\n",
        "\n",
        "    # data for buy/sell points\n",
        "    buy, sell, hold = [], [], []\n",
        "    action_list = np.arange(len(total_df['action_t']))\n",
        "\n",
        "    for i, j  in enumerate(action_list):\n",
        "        if total_df.loc[i, 'action_t'] > 0:\n",
        "            buy.append(j)\n",
        "        elif total_df.loc[i, 'action_t'] < 0:\n",
        "            sell.append(j)\n",
        "        else:\n",
        "            hold.append(j)\n",
        "\n",
        "\n",
        "    # Legend Items\n",
        "    green_triangle = mlines.Line2D([], [], color='green', marker='^', linestyle='None',\n",
        "                          markersize=10, label='Buy')\n",
        "    \n",
        "    red_triangle = mlines.Line2D([], [], color='red', marker='v', linestyle='None',\n",
        "                          markersize=10, label='Sell')\n",
        "\n",
        "    \n",
        "\n",
        "\n",
        "    # buy or sell points\n",
        "    plt.figure(figsize=(15, 5))\n",
        "    plt.title(\"Buy/Sell Points\", fontweight=\"bold\")\n",
        "    plt.plot(total_df['price_t'].rolling(30).mean(), 'b-')\n",
        "    plt.plot(buy, total_df.loc[buy, 'price_t'], 'g^')\n",
        "    plt.plot(sell, total_df.loc[sell, 'price_t'], 'rv')\n",
        "    plt.xlabel(\"Days\", fontsize=13)\n",
        "    plt.ylabel(\"Price in $\", fontsize=13)\n",
        "    plt.grid()\n",
        "    plt.legend(handles=[green_triangle, red_triangle])\n",
        "\n",
        "    plt.tight_layout()\n",
        "    \n",
        "\n",
        "    # cum_reward plot\n",
        "    plt.figure(figsize=(15, 5))\n",
        "    plt.title(\"Train vs Test Period Rewards (30 days Moving)\", fontweight=\"bold\")\n",
        "    plt.plot(total_df['cum_reward'].loc[:train_index].rolling(30).mean(), 'g-')\n",
        "    plt.plot(total_df['cum_reward'].loc[train_index:].rolling(30).mean(), 'r-')\n",
        "    plt.xlim(0, 3000)\n",
        "    plt.xlabel(\"Days\", fontsize=13)\n",
        "    plt.ylabel(\"Cumulative Rewards\", fontsize=13)\n",
        "    plt.grid()\n",
        "    plt.legend(['Train', 'Test'], fontsize=13)\n",
        "\n",
        "    plt.tight_layout()\n",
        "    \n",
        "\n",
        "    # Final DataFrame\n",
        "    df = pd.DataFrame(data=[ \n",
        "                            [envF.start, env.start],\n",
        "                            [envF.end, env.end],\n",
        "                            [int(train_period), int(test_period)],\n",
        "                            [total_reward_train, total_reward_test],\n",
        "                            [train_period_return, test_period_return],\n",
        "                            [train_annual_return, test_annual_return],\n",
        "                            [train_vol, test_vol],\n",
        "                            [train_sharpe, test_sharpe],\n",
        "                            [train_kurtosis, test_kurtosis]\n",
        "                            ] ,\n",
        "                      \n",
        "                      columns=['Train', 'Test'], \n",
        "                      index=['Start Date', 'End Date', 'Time Period (in Months)', 'Total Reward', 'Return/Month %', 'Annual Return %', \n",
        "                             'Annual Volatility', 'Sharpe Ratio', 'Kurtosis'])\n",
        "\n",
        "    return df"
      ],
      "metadata": {
        "id": "MAR-HR8Tog3T"
      },
      "execution_count": 44,
      "outputs": []
    },
    {
      "cell_type": "markdown",
      "source": [
        "#### Environment"
      ],
      "metadata": {
        "id": "N0V0Jo1wgyn1"
      }
    },
    {
      "cell_type": "code",
      "source": [
        "class Cloudcraftz(gym.Env):\n",
        "    def __init__(self, ticker, start, end):\n",
        "        self.df, self.start, self.end = dataframe(ticker, start, end)\n",
        "        self._current = None\n",
        "        self._end_tick = len(self.df['close']) - 1\n",
        "        self.actions = []\n",
        "        self.rewards = []\n",
        "        self.return_df = {}\n",
        "\n",
        "        # observation space and action space\n",
        "        self.observation_space = gym.spaces.Box(low=-np.inf, high=np.inf, shape=(self.df.shape[1]+1,))\n",
        "        self.action_space = gym.spaces.Discrete(3)\n",
        "\n",
        "    def step(self, action):\n",
        "        # Mapping 0-> -1, 1-> 0, 2-> 1\n",
        "        action = action - 1\n",
        "        # print(action) \n",
        "\n",
        "        obs = self.obs\n",
        "\n",
        "        # Moving towards new day\n",
        "        self._current += 1\n",
        "\n",
        "        # New day\n",
        "        new_obs = np.array(list(self.df.loc[self._current].to_numpy()) + [action])\n",
        "\n",
        "        # reward\n",
        "        reward = action * (new_obs[0] - obs[0])\n",
        "\n",
        "        self.actions.append(action)\n",
        "        self.rewards.append(reward)\n",
        "        self.price_today.append(obs[0])\n",
        "        self.price_tom.append(new_obs[0])\n",
        "\n",
        "        # check\n",
        "        if self._current == self._end_tick:\n",
        "            print(\"Done\")\n",
        "            done = True\n",
        "            self.return_df = None\n",
        "            self.return_df = {'price_t': self.price_today, 'reward_t': self.rewards, 'action_t': self.actions, 'price_t+1': self.price_tom}\n",
        "        else:\n",
        "            done = False\n",
        "        \n",
        "        self.obs = new_obs\n",
        "\n",
        "        return (self.obs).astype(np.float32), reward, done, {}\n",
        "    \n",
        "    def reset(self):\n",
        "        print(\"Reset\")\n",
        "        self._current = 0\n",
        "        self.price_today = []\n",
        "        self.price_tom = []\n",
        "        self.actions = []\n",
        "        self.rewards = []\n",
        "        self.obs = np.array(list(self.df.loc[self._current].to_numpy()) + [0])\n",
        "\n",
        "        return (self.obs).astype(np.float32)\n",
        "    \n",
        "    def render(self):\n",
        "        pass"
      ],
      "metadata": {
        "id": "IHJGZb1TH0bj"
      },
      "execution_count": 36,
      "outputs": []
    },
    {
      "cell_type": "markdown",
      "source": [
        "#### Training Model using A2C"
      ],
      "metadata": {
        "id": "mxCwHH5rg1p8"
      }
    },
    {
      "cell_type": "code",
      "source": [
        "envF = Cloudcraftz('AAPL', '2011-01-19', '2019-01-12')"
      ],
      "metadata": {
        "id": "7dUKgG3xSX6s"
      },
      "execution_count": 37,
      "outputs": []
    },
    {
      "cell_type": "code",
      "source": [
        "model = A2C('MlpPolicy', envF)"
      ],
      "metadata": {
        "id": "044VSexXShIp"
      },
      "execution_count": 38,
      "outputs": []
    },
    {
      "cell_type": "code",
      "source": [
        "model.learn(total_timesteps=10000)"
      ],
      "metadata": {
        "id": "l3n290uZTImS",
        "colab": {
          "base_uri": "https://localhost:8080/"
        },
        "outputId": "aee5e603-940c-4838-cacb-8a54503234d6"
      },
      "execution_count": 39,
      "outputs": [
        {
          "output_type": "stream",
          "name": "stdout",
          "text": [
            "Reset\n",
            "Done\n",
            "Reset\n",
            "Done\n",
            "Reset\n",
            "Done\n",
            "Reset\n",
            "Done\n",
            "Reset\n"
          ]
        },
        {
          "output_type": "execute_result",
          "data": {
            "text/plain": [
              "<stable_baselines3.a2c.a2c.A2C at 0x7f5c3c8e2e90>"
            ]
          },
          "metadata": {},
          "execution_count": 39
        }
      ]
    },
    {
      "cell_type": "markdown",
      "source": [
        "#### Backtesting "
      ],
      "metadata": {
        "id": "O7B0H0HEg6qc"
      }
    },
    {
      "cell_type": "code",
      "source": [
        "env = Cloudcraftz('AAPL', '2019-01-12', '2021-09-17')"
      ],
      "metadata": {
        "id": "g4mP87sxUQE9"
      },
      "execution_count": 40,
      "outputs": []
    },
    {
      "cell_type": "code",
      "source": [
        "done = False\n",
        "\n",
        "state = env.reset()\n",
        "\n",
        "while not done:\n",
        "    state = state\n",
        "    action, _ = model.predict(state)\n",
        "    state, reward, done, info = env.step(action)"
      ],
      "metadata": {
        "id": "WwK5amDCywSq",
        "colab": {
          "base_uri": "https://localhost:8080/"
        },
        "outputId": "84c6bae3-8816-42b2-c8e9-b52683cb58ef"
      },
      "execution_count": 41,
      "outputs": [
        {
          "output_type": "stream",
          "name": "stdout",
          "text": [
            "Reset\n",
            "Done\n"
          ]
        }
      ]
    },
    {
      "cell_type": "markdown",
      "source": [
        "#### Financial Summary"
      ],
      "metadata": {
        "id": "8iKKV7K9g90r"
      }
    },
    {
      "cell_type": "code",
      "source": [
        "summary(envF, env)"
      ],
      "metadata": {
        "id": "AqUn4ZcUnlvF",
        "colab": {
          "base_uri": "https://localhost:8080/",
          "height": 1000
        },
        "outputId": "be5cb9d5-ae72-4900-a88b-91be69e4825f"
      },
      "execution_count": 42,
      "outputs": [
        {
          "output_type": "execute_result",
          "data": {
            "text/plain": [
              "                              Train        Test\n",
              "Start Date               2011-01-19  2019-01-12\n",
              "End Date                 2019-01-12  2021-09-17\n",
              "Time Period (in Months)          95          32\n",
              "Total Reward                30.4508    108.8874\n",
              "Return/Month %             3.160043    9.234458\n",
              "Annual Return %           37.920519  110.813499\n",
              "Annual Volatility          0.258331     0.35164\n",
              "Sharpe Ratio               0.802794    1.714755\n",
              "Kurtosis                   7.859402    8.761677"
            ],
            "text/html": [
              "\n",
              "  <div id=\"df-24f7da4f-2576-493d-9468-7e7cdc57415d\">\n",
              "    <div class=\"colab-df-container\">\n",
              "      <div>\n",
              "<style scoped>\n",
              "    .dataframe tbody tr th:only-of-type {\n",
              "        vertical-align: middle;\n",
              "    }\n",
              "\n",
              "    .dataframe tbody tr th {\n",
              "        vertical-align: top;\n",
              "    }\n",
              "\n",
              "    .dataframe thead th {\n",
              "        text-align: right;\n",
              "    }\n",
              "</style>\n",
              "<table border=\"1\" class=\"dataframe\">\n",
              "  <thead>\n",
              "    <tr style=\"text-align: right;\">\n",
              "      <th></th>\n",
              "      <th>Train</th>\n",
              "      <th>Test</th>\n",
              "    </tr>\n",
              "  </thead>\n",
              "  <tbody>\n",
              "    <tr>\n",
              "      <th>Start Date</th>\n",
              "      <td>2011-01-19</td>\n",
              "      <td>2019-01-12</td>\n",
              "    </tr>\n",
              "    <tr>\n",
              "      <th>End Date</th>\n",
              "      <td>2019-01-12</td>\n",
              "      <td>2021-09-17</td>\n",
              "    </tr>\n",
              "    <tr>\n",
              "      <th>Time Period (in Months)</th>\n",
              "      <td>95</td>\n",
              "      <td>32</td>\n",
              "    </tr>\n",
              "    <tr>\n",
              "      <th>Total Reward</th>\n",
              "      <td>30.4508</td>\n",
              "      <td>108.8874</td>\n",
              "    </tr>\n",
              "    <tr>\n",
              "      <th>Return/Month %</th>\n",
              "      <td>3.160043</td>\n",
              "      <td>9.234458</td>\n",
              "    </tr>\n",
              "    <tr>\n",
              "      <th>Annual Return %</th>\n",
              "      <td>37.920519</td>\n",
              "      <td>110.813499</td>\n",
              "    </tr>\n",
              "    <tr>\n",
              "      <th>Annual Volatility</th>\n",
              "      <td>0.258331</td>\n",
              "      <td>0.35164</td>\n",
              "    </tr>\n",
              "    <tr>\n",
              "      <th>Sharpe Ratio</th>\n",
              "      <td>0.802794</td>\n",
              "      <td>1.714755</td>\n",
              "    </tr>\n",
              "    <tr>\n",
              "      <th>Kurtosis</th>\n",
              "      <td>7.859402</td>\n",
              "      <td>8.761677</td>\n",
              "    </tr>\n",
              "  </tbody>\n",
              "</table>\n",
              "</div>\n",
              "      <button class=\"colab-df-convert\" onclick=\"convertToInteractive('df-24f7da4f-2576-493d-9468-7e7cdc57415d')\"\n",
              "              title=\"Convert this dataframe to an interactive table.\"\n",
              "              style=\"display:none;\">\n",
              "        \n",
              "  <svg xmlns=\"http://www.w3.org/2000/svg\" height=\"24px\"viewBox=\"0 0 24 24\"\n",
              "       width=\"24px\">\n",
              "    <path d=\"M0 0h24v24H0V0z\" fill=\"none\"/>\n",
              "    <path d=\"M18.56 5.44l.94 2.06.94-2.06 2.06-.94-2.06-.94-.94-2.06-.94 2.06-2.06.94zm-11 1L8.5 8.5l.94-2.06 2.06-.94-2.06-.94L8.5 2.5l-.94 2.06-2.06.94zm10 10l.94 2.06.94-2.06 2.06-.94-2.06-.94-.94-2.06-.94 2.06-2.06.94z\"/><path d=\"M17.41 7.96l-1.37-1.37c-.4-.4-.92-.59-1.43-.59-.52 0-1.04.2-1.43.59L10.3 9.45l-7.72 7.72c-.78.78-.78 2.05 0 2.83L4 21.41c.39.39.9.59 1.41.59.51 0 1.02-.2 1.41-.59l7.78-7.78 2.81-2.81c.8-.78.8-2.07 0-2.86zM5.41 20L4 18.59l7.72-7.72 1.47 1.35L5.41 20z\"/>\n",
              "  </svg>\n",
              "      </button>\n",
              "      \n",
              "  <style>\n",
              "    .colab-df-container {\n",
              "      display:flex;\n",
              "      flex-wrap:wrap;\n",
              "      gap: 12px;\n",
              "    }\n",
              "\n",
              "    .colab-df-convert {\n",
              "      background-color: #E8F0FE;\n",
              "      border: none;\n",
              "      border-radius: 50%;\n",
              "      cursor: pointer;\n",
              "      display: none;\n",
              "      fill: #1967D2;\n",
              "      height: 32px;\n",
              "      padding: 0 0 0 0;\n",
              "      width: 32px;\n",
              "    }\n",
              "\n",
              "    .colab-df-convert:hover {\n",
              "      background-color: #E2EBFA;\n",
              "      box-shadow: 0px 1px 2px rgba(60, 64, 67, 0.3), 0px 1px 3px 1px rgba(60, 64, 67, 0.15);\n",
              "      fill: #174EA6;\n",
              "    }\n",
              "\n",
              "    [theme=dark] .colab-df-convert {\n",
              "      background-color: #3B4455;\n",
              "      fill: #D2E3FC;\n",
              "    }\n",
              "\n",
              "    [theme=dark] .colab-df-convert:hover {\n",
              "      background-color: #434B5C;\n",
              "      box-shadow: 0px 1px 3px 1px rgba(0, 0, 0, 0.15);\n",
              "      filter: drop-shadow(0px 1px 2px rgba(0, 0, 0, 0.3));\n",
              "      fill: #FFFFFF;\n",
              "    }\n",
              "  </style>\n",
              "\n",
              "      <script>\n",
              "        const buttonEl =\n",
              "          document.querySelector('#df-24f7da4f-2576-493d-9468-7e7cdc57415d button.colab-df-convert');\n",
              "        buttonEl.style.display =\n",
              "          google.colab.kernel.accessAllowed ? 'block' : 'none';\n",
              "\n",
              "        async function convertToInteractive(key) {\n",
              "          const element = document.querySelector('#df-24f7da4f-2576-493d-9468-7e7cdc57415d');\n",
              "          const dataTable =\n",
              "            await google.colab.kernel.invokeFunction('convertToInteractive',\n",
              "                                                     [key], {});\n",
              "          if (!dataTable) return;\n",
              "\n",
              "          const docLinkHtml = 'Like what you see? Visit the ' +\n",
              "            '<a target=\"_blank\" href=https://colab.research.google.com/notebooks/data_table.ipynb>data table notebook</a>'\n",
              "            + ' to learn more about interactive tables.';\n",
              "          element.innerHTML = '';\n",
              "          dataTable['output_type'] = 'display_data';\n",
              "          await google.colab.output.renderOutput(dataTable, element);\n",
              "          const docLink = document.createElement('div');\n",
              "          docLink.innerHTML = docLinkHtml;\n",
              "          element.appendChild(docLink);\n",
              "        }\n",
              "      </script>\n",
              "    </div>\n",
              "  </div>\n",
              "  "
            ]
          },
          "metadata": {},
          "execution_count": 42
        },
        {
          "output_type": "display_data",
          "data": {
            "text/plain": [
              "<Figure size 1080x360 with 1 Axes>"
            ],
            "image/png": "[encoded data removed]"
          },
          "metadata": {
            "needs_background": "light"
          }
        },
        {
          "output_type": "display_data",
          "data": {
            "text/plain": [
              "<Figure size 1080x360 with 1 Axes>"
            ],
            "image/png": "[encoded data removed]"
          },
          "metadata": {
            "needs_background": "light"
          }
        }
      ]
    },
    {
      "cell_type": "code",
      "source": [
        "pd.DataFrame(env.return_df)"
      ],
      "metadata": {
        "colab": {
          "base_uri": "https://localhost:8080/",
          "height": 424
        },
        "id": "5zFFBT5N3Add",
        "outputId": "b3aa9c7e-a143-4468-d5b7-838c893f6dda"
      },
      "execution_count": 43,
      "outputs": [
        {
          "output_type": "execute_result",
          "data": {
            "text/plain": [
              "      price_t  reward_t  action_t  price_t+1\n",
              "0     36.5119    0.7473         1    37.2592\n",
              "1     37.2592    0.4552         1    37.7144\n",
              "2     37.7144    0.2239         1    37.9383\n",
              "3     37.9383    0.2337         1    38.1720\n",
              "4     38.1720   -0.8568         1    37.3152\n",
              "..        ...       ...       ...        ...\n",
              "636  148.5600    0.4300         1   148.9900\n",
              "637  148.9900   -2.2200         1   146.7700\n",
              "638  146.7700   -1.7900         1   144.9800\n",
              "639  144.9800    0.6600         1   145.6400\n",
              "640  145.6400    0.2200         1   145.8600\n",
              "\n",
              "[641 rows x 4 columns]"
            ],
            "text/html": [
              "\n",
              "  <div id=\"df-59c47b2a-e5c0-424b-9065-b9a29ea943de\">\n",
              "    <div class=\"colab-df-container\">\n",
              "      <div>\n",
              "<style scoped>\n",
              "    .dataframe tbody tr th:only-of-type {\n",
              "        vertical-align: middle;\n",
              "    }\n",
              "\n",
              "    .dataframe tbody tr th {\n",
              "        vertical-align: top;\n",
              "    }\n",
              "\n",
              "    .dataframe thead th {\n",
              "        text-align: right;\n",
              "    }\n",
              "</style>\n",
              "<table border=\"1\" class=\"dataframe\">\n",
              "  <thead>\n",
              "    <tr style=\"text-align: right;\">\n",
              "      <th></th>\n",
              "      <th>price_t</th>\n",
              "      <th>reward_t</th>\n",
              "      <th>action_t</th>\n",
              "      <th>price_t+1</th>\n",
              "    </tr>\n",
              "  </thead>\n",
              "  <tbody>\n",
              "    <tr>\n",
              "      <th>0</th>\n",
              "      <td>36.5119</td>\n",
              "      <td>0.7473</td>\n",
              "      <td>1</td>\n",
              "      <td>37.2592</td>\n",
              "    </tr>\n",
              "    <tr>\n",
              "      <th>1</th>\n",
              "      <td>37.2592</td>\n",
              "      <td>0.4552</td>\n",
              "      <td>1</td>\n",
              "      <td>37.7144</td>\n",
              "    </tr>\n",
              "    <tr>\n",
              "      <th>2</th>\n",
              "      <td>37.7144</td>\n",
              "      <td>0.2239</td>\n",
              "      <td>1</td>\n",
              "      <td>37.9383</td>\n",
              "    </tr>\n",
              "    <tr>\n",
              "      <th>3</th>\n",
              "      <td>37.9383</td>\n",
              "      <td>0.2337</td>\n",
              "      <td>1</td>\n",
              "      <td>38.1720</td>\n",
              "    </tr>\n",
              "    <tr>\n",
              "      <th>4</th>\n",
              "      <td>38.1720</td>\n",
              "      <td>-0.8568</td>\n",
              "      <td>1</td>\n",
              "      <td>37.3152</td>\n",
              "    </tr>\n",
              "    <tr>\n",
              "      <th>...</th>\n",
              "      <td>...</td>\n",
              "      <td>...</td>\n",
              "      <td>...</td>\n",
              "      <td>...</td>\n",
              "    </tr>\n",
              "    <tr>\n",
              "      <th>636</th>\n",
              "      <td>148.5600</td>\n",
              "      <td>0.4300</td>\n",
              "      <td>1</td>\n",
              "      <td>148.9900</td>\n",
              "    </tr>\n",
              "    <tr>\n",
              "      <th>637</th>\n",
              "      <td>148.9900</td>\n",
              "      <td>-2.2200</td>\n",
              "      <td>1</td>\n",
              "      <td>146.7700</td>\n",
              "    </tr>\n",
              "    <tr>\n",
              "      <th>638</th>\n",
              "      <td>146.7700</td>\n",
              "      <td>-1.7900</td>\n",
              "      <td>1</td>\n",
              "      <td>144.9800</td>\n",
              "    </tr>\n",
              "    <tr>\n",
              "      <th>639</th>\n",
              "      <td>144.9800</td>\n",
              "      <td>0.6600</td>\n",
              "      <td>1</td>\n",
              "      <td>145.6400</td>\n",
              "    </tr>\n",
              "    <tr>\n",
              "      <th>640</th>\n",
              "      <td>145.6400</td>\n",
              "      <td>0.2200</td>\n",
              "      <td>1</td>\n",
              "      <td>145.8600</td>\n",
              "    </tr>\n",
              "  </tbody>\n",
              "</table>\n",
              "<p>641 rows × 4 columns</p>\n",
              "</div>\n",
              "      <button class=\"colab-df-convert\" onclick=\"convertToInteractive('df-59c47b2a-e5c0-424b-9065-b9a29ea943de')\"\n",
              "              title=\"Convert this dataframe to an interactive table.\"\n",
              "              style=\"display:none;\">\n",
              "        \n",
              "  <svg xmlns=\"http://www.w3.org/2000/svg\" height=\"24px\"viewBox=\"0 0 24 24\"\n",
              "       width=\"24px\">\n",
              "    <path d=\"M0 0h24v24H0V0z\" fill=\"none\"/>\n",
              "    <path d=\"M18.56 5.44l.94 2.06.94-2.06 2.06-.94-2.06-.94-.94-2.06-.94 2.06-2.06.94zm-11 1L8.5 8.5l.94-2.06 2.06-.94-2.06-.94L8.5 2.5l-.94 2.06-2.06.94zm10 10l.94 2.06.94-2.06 2.06-.94-2.06-.94-.94-2.06-.94 2.06-2.06.94z\"/><path d=\"M17.41 7.96l-1.37-1.37c-.4-.4-.92-.59-1.43-.59-.52 0-1.04.2-1.43.59L10.3 9.45l-7.72 7.72c-.78.78-.78 2.05 0 2.83L4 21.41c.39.39.9.59 1.41.59.51 0 1.02-.2 1.41-.59l7.78-7.78 2.81-2.81c.8-.78.8-2.07 0-2.86zM5.41 20L4 18.59l7.72-7.72 1.47 1.35L5.41 20z\"/>\n",
              "  </svg>\n",
              "      </button>\n",
              "      \n",
              "  <style>\n",
              "    .colab-df-container {\n",
              "      display:flex;\n",
              "      flex-wrap:wrap;\n",
              "      gap: 12px;\n",
              "    }\n",
              "\n",
              "    .colab-df-convert {\n",
              "      background-color: #E8F0FE;\n",
              "      border: none;\n",
              "      border-radius: 50%;\n",
              "      cursor: pointer;\n",
              "      display: none;\n",
              "      fill: #1967D2;\n",
              "      height: 32px;\n",
              "      padding: 0 0 0 0;\n",
              "      width: 32px;\n",
              "    }\n",
              "\n",
              "    .colab-df-convert:hover {\n",
              "      background-color: #E2EBFA;\n",
              "      box-shadow: 0px 1px 2px rgba(60, 64, 67, 0.3), 0px 1px 3px 1px rgba(60, 64, 67, 0.15);\n",
              "      fill: #174EA6;\n",
              "    }\n",
              "\n",
              "    [theme=dark] .colab-df-convert {\n",
              "      background-color: #3B4455;\n",
              "      fill: #D2E3FC;\n",
              "    }\n",
              "\n",
              "    [theme=dark] .colab-df-convert:hover {\n",
              "      background-color: #434B5C;\n",
              "      box-shadow: 0px 1px 3px 1px rgba(0, 0, 0, 0.15);\n",
              "      filter: drop-shadow(0px 1px 2px rgba(0, 0, 0, 0.3));\n",
              "      fill: #FFFFFF;\n",
              "    }\n",
              "  </style>\n",
              "\n",
              "      <script>\n",
              "        const buttonEl =\n",
              "          document.querySelector('#df-59c47b2a-e5c0-424b-9065-b9a29ea943de button.colab-df-convert');\n",
              "        buttonEl.style.display =\n",
              "          google.colab.kernel.accessAllowed ? 'block' : 'none';\n",
              "\n",
              "        async function convertToInteractive(key) {\n",
              "          const element = document.querySelector('#df-59c47b2a-e5c0-424b-9065-b9a29ea943de');\n",
              "          const dataTable =\n",
              "            await google.colab.kernel.invokeFunction('convertToInteractive',\n",
              "                                                     [key], {});\n",
              "          if (!dataTable) return;\n",
              "\n",
              "          const docLinkHtml = 'Like what you see? Visit the ' +\n",
              "            '<a target=\"_blank\" href=https://colab.research.google.com/notebooks/data_table.ipynb>data table notebook</a>'\n",
              "            + ' to learn more about interactive tables.';\n",
              "          element.innerHTML = '';\n",
              "          dataTable['output_type'] = 'display_data';\n",
              "          await google.colab.output.renderOutput(dataTable, element);\n",
              "          const docLink = document.createElement('div');\n",
              "          docLink.innerHTML = docLinkHtml;\n",
              "          element.appendChild(docLink);\n",
              "        }\n",
              "      </script>\n",
              "    </div>\n",
              "  </div>\n",
              "  "
            ]
          },
          "metadata": {},
          "execution_count": 43
        }
      ]
    },
    {
      "cell_type": "code",
      "source": [
        ""
      ],
      "metadata": {
        "id": "MILaxvJ33Oeo"
      },
      "execution_count": null,
      "outputs": []
    }
  ]
}